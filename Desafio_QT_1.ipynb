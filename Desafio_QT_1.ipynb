{
 "cells": [
  {
   "cell_type": "code",
   "execution_count": 1,
   "metadata": {},
   "outputs": [],
   "source": [
    "import pandas as pd\n",
    "import numpy as np\n",
    "%matplotlib inline\n",
    "pd.set_option(\"display.max_rows\", 120)\n",
    "\n",
    "dados_treino = pd.read_csv(\n",
    "    \"/home/pinguim/Documentos/MeusEstudos/QuarentenaDados/DADOS_TREINO.csv\")\n",
    "dados_teste = pd.read_csv(\n",
    "    \"/home/pinguim/Documentos/MeusEstudos/QuarentenaDados/DADOS_TESTE.csv\")\n",
    "dados_desafioqt = pd.read_csv(\n",
    "    \"/home/pinguim/Documentos/MeusEstudos/QuarentenaDados/DESAFIOQT.csv\")\n",
    "\n",
    "assert dados_treino.shape == (150000, 5)\n",
    "assert dados_teste.shape == (20000, 5)\n",
    "assert dados_desafioqt.shape == (10000, 5)"
   ]
  },
  {
   "cell_type": "code",
   "execution_count": 28,
   "metadata": {},
   "outputs": [],
   "source": [
    "coluna_label = 'NU_NOTA_LC'\n",
    "coluna_features = ['NU_NOTA_CN', 'NU_NOTA_CH', 'NU_NOTA_MT', 'NU_NOTA_REDACAO']\n",
    "\n",
    "X_treino = dados_treino[coluna_features].to_numpy()\n",
    "Y_treino = dados_treino[coluna_label].to_numpy()\n",
    "X_teste = dados_teste[coluna_features].to_numpy()\n",
    "Y_teste = dados_teste[coluna_label].to_numpy()"
   ]
  },
  {
   "cell_type": "code",
   "execution_count": 41,
   "metadata": {},
   "outputs": [],
   "source": [
    "from sklearn.preprocessing import StandardScaler\n",
    "sc = StandardScaler()\n",
    "X_treino = sc.fit_transform(X_treino)  \n",
    "X_teste = sc.transform(X_teste)\n"
   ]
  },
  {
   "cell_type": "code",
   "execution_count": 62,
   "metadata": {},
   "outputs": [],
   "source": [
    "from sklearn.ensemble import RandomForestRegressor\n",
    "modelo_rf = RandomForestRegressor(\n",
    "    criterion='mse',\n",
    "    max_depth=10,\n",
    "    max_features=3,\n",
    "    max_leaf_nodes=None,\n",
    "    min_impurity_split=None,\n",
    "    min_samples_leaf=3,\n",
    "    min_samples_split=5,\n",
    "    min_weight_fraction_leaf=0.0,\n",
    "    n_estimators=600,\n",
    "    n_jobs=1,\n",
    "    random_state=0,\n",
    "    verbose=0,\n",
    "    warm_start=False\n",
    ")"
   ]
  },
  {
   "cell_type": "code",
   "execution_count": 59,
   "metadata": {},
   "outputs": [
    {
     "data": {
      "text/plain": [
       "RandomForestRegressor(bootstrap=True, ccp_alpha=0.0, criterion='mse',\n",
       "                      max_depth=10, max_features=3, max_leaf_nodes=None,\n",
       "                      max_samples=None, min_impurity_decrease=0.0,\n",
       "                      min_impurity_split=None, min_samples_leaf=3,\n",
       "                      min_samples_split=5, min_weight_fraction_leaf=0.0,\n",
       "                      n_estimators=500, n_jobs=1, oob_score=False,\n",
       "                      random_state=0, verbose=0, warm_start=False)"
      ]
     },
     "execution_count": 59,
     "metadata": {},
     "output_type": "execute_result"
    }
   ],
   "source": [
    "modelo_rf.fit(X_treino, Y_treino)"
   ]
  },
  {
   "cell_type": "code",
   "execution_count": 60,
   "metadata": {},
   "outputs": [],
   "source": [
    "y_pred_treino = modelo_rf.predict(X_treino)\n",
    "y_pred_teste = modelo_rf.predict(X_teste)"
   ]
  },
  {
   "cell_type": "code",
   "execution_count": 61,
   "metadata": {},
   "outputs": [
    {
     "name": "stdout",
     "output_type": "stream",
     "text": [
      "[0.6143602  0.61213477 0.61189022 0.61666617 0.61030214]\n",
      "[0.59493789 0.59465658 0.59564782 0.59754766 0.60666248]\n",
      "1889.55\n",
      "2057.2\n"
     ]
    }
   ],
   "source": [
    "from sklearn.model_selection import cross_val_score\n",
    "from sklearn.metrics import mean_squared_error\n",
    "\n",
    "print(cross_val_score(modelo_rf, X_treino, Y_treino, cv = 5))\n",
    "print(cross_val_score(modelo_rf, X_teste, Y_teste, cv = 5))\n",
    "print(mean_squared_error(Y_treino, y_pred_treino).round(2))\n",
    "print(mean_squared_error(Y_teste, y_pred_teste).round(2))"
   ]
  },
  {
   "cell_type": "code",
   "execution_count": 65,
   "metadata": {},
   "outputs": [],
   "source": [
    "from sklearn.neural_network import MLPRegressor\n",
    "\n",
    "modelo_mlp = MLPRegressor(\n",
    "    random_state=0, hidden_layer_sizes=100, activation='tanh',validation_fraction=0.1230,  max_iter=1000)"
   ]
  },
  {
   "cell_type": "code",
   "execution_count": 69,
   "metadata": {},
   "outputs": [
    {
     "data": {
      "text/plain": [
       "MLPRegressor(activation='tanh', alpha=0.0001, batch_size='auto', beta_1=0.9,\n",
       "             beta_2=0.999, early_stopping=False, epsilon=1e-08,\n",
       "             hidden_layer_sizes=100, learning_rate='constant',\n",
       "             learning_rate_init=0.001, max_fun=15000, max_iter=1000,\n",
       "             momentum=0.9, n_iter_no_change=10, nesterovs_momentum=True,\n",
       "             power_t=0.5, random_state=0, shuffle=True, solver='adam',\n",
       "             tol=0.0001, validation_fraction=0.123, verbose=False,\n",
       "             warm_start=False)"
      ]
     },
     "execution_count": 69,
     "metadata": {},
     "output_type": "execute_result"
    }
   ],
   "source": [
    "modelo_mlp.fit(X_treino, Y_treino)"
   ]
  },
  {
   "cell_type": "code",
   "execution_count": 71,
   "metadata": {},
   "outputs": [],
   "source": [
    "y_pred_teste_1 = modelo_mlp.predict(X_teste)\n",
    "y_pred_train_1 = modelo_mlp.predict(X_treino)"
   ]
  },
  {
   "cell_type": "code",
   "execution_count": 72,
   "metadata": {},
   "outputs": [
    {
     "name": "stdout",
     "output_type": "stream",
     "text": [
      "[0.60086777 0.59722299 0.59948319 0.59671748 0.61439074]\n"
     ]
    },
    {
     "data": {
      "text/plain": [
       "2045.21"
      ]
     },
     "execution_count": 72,
     "metadata": {},
     "output_type": "execute_result"
    }
   ],
   "source": [
    "print(cross_val_score(modelo_mlp, X_teste, Y_teste, cv = 5))\n",
    "mean_squared_error(Y_teste, y_pred_teste_1).round(2)"
   ]
  },
  {
   "cell_type": "code",
   "execution_count": 16,
   "metadata": {},
   "outputs": [],
   "source": [
    "from sklearn.neighbors import KNeighborsRegressor\n",
    "\n",
    "modelo_knr = KNeighborsRegressor()"
   ]
  },
  {
   "cell_type": "code",
   "execution_count": 17,
   "metadata": {},
   "outputs": [
    {
     "data": {
      "text/plain": [
       "KNeighborsRegressor(algorithm='auto', leaf_size=30, metric='minkowski',\n",
       "                    metric_params=None, n_jobs=None, n_neighbors=5, p=2,\n",
       "                    weights='uniform')"
      ]
     },
     "execution_count": 17,
     "metadata": {},
     "output_type": "execute_result"
    }
   ],
   "source": [
    "modelo_knr.fit(X_treino, Y_treino)"
   ]
  },
  {
   "cell_type": "code",
   "execution_count": 18,
   "metadata": {},
   "outputs": [],
   "source": [
    "y_pred_teste_2 = modelo_knr.predict(X_teste)\n",
    "y_pred_train_2 = modelo_knr.predict(X_treino)"
   ]
  },
  {
   "cell_type": "code",
   "execution_count": 19,
   "metadata": {},
   "outputs": [
    {
     "name": "stdout",
     "output_type": "stream",
     "text": [
      "[0.52082818 0.51683287 0.51751788 0.50936585 0.54839745]\n"
     ]
    },
    {
     "data": {
      "text/plain": [
       "2471.08"
      ]
     },
     "execution_count": 19,
     "metadata": {},
     "output_type": "execute_result"
    }
   ],
   "source": [
    "print(cross_val_score(modelo_knr, X_teste, Y_teste, cv = 5))\n",
    "mean_squared_error(Y_teste, y_pred_teste_2).round(2)"
   ]
  },
  {
   "cell_type": "code",
   "execution_count": 109,
   "metadata": {},
   "outputs": [],
   "source": [
    "import lightgbm as lgbm\n",
    "modelo_lgbm = lgbm.sklearn.LGBMRegressor(\n",
    "    n_estimators=100, random_state=0, learning_rate=0.052339, boosting_type='gbdt', n_jobs=-1)"
   ]
  },
  {
   "cell_type": "code",
   "execution_count": 110,
   "metadata": {},
   "outputs": [
    {
     "data": {
      "text/plain": [
       "LGBMRegressor(boosting_type='gbdt', class_weight=None, colsample_bytree=1.0,\n",
       "              importance_type='split', learning_rate=0.052339, max_depth=-1,\n",
       "              min_child_samples=20, min_child_weight=0.001, min_split_gain=0.0,\n",
       "              n_estimators=100, n_jobs=-1, num_leaves=31, objective=None,\n",
       "              random_state=0, reg_alpha=0.0, reg_lambda=0.0, silent=True,\n",
       "              subsample=1.0, subsample_for_bin=200000, subsample_freq=0)"
      ]
     },
     "execution_count": 110,
     "metadata": {},
     "output_type": "execute_result"
    }
   ],
   "source": [
    "modelo_lgbm.fit(X_treino, Y_treino)"
   ]
  },
  {
   "cell_type": "code",
   "execution_count": 111,
   "metadata": {},
   "outputs": [],
   "source": [
    "y_pred_teste_3 = modelo_lgbm.predict(X_teste)\n",
    "y_pred_train_3 = modelo_lgbm.predict(X_treino)"
   ]
  },
  {
   "cell_type": "code",
   "execution_count": 112,
   "metadata": {},
   "outputs": [
    {
     "name": "stdout",
     "output_type": "stream",
     "text": [
      "[0.59013343 0.59723217 0.59256695 0.60086626 0.6019208 ]\n"
     ]
    },
    {
     "data": {
      "text/plain": [
       "2079.9"
      ]
     },
     "execution_count": 112,
     "metadata": {},
     "output_type": "execute_result"
    }
   ],
   "source": [
    "print(cross_val_score(modelo_lgbm, X_teste, Y_teste, cv = 5))\n",
    "mean_squared_error(Y_teste, y_pred_teste_3).round(2)"
   ]
  },
  {
   "cell_type": "code",
   "execution_count": 189,
   "metadata": {},
   "outputs": [
    {
     "data": {
      "text/plain": [
       "XGBRegressor(base_score=0.5, booster=None, colsample_bylevel=1,\n",
       "             colsample_bynode=1, colsample_bytree=1, gamma=0, gpu_id=-1,\n",
       "             importance_type='gain', interaction_constraints=None,\n",
       "             learning_rate=0.300000012, max_delta_step=0, max_depth=4,\n",
       "             min_child_weight=3, missing=nan, monotone_constraints=None,\n",
       "             n_estimators=20, n_jobs=0, num_parallel_tree=1,\n",
       "             objective='reg:squarederror', random_state=0, reg_alpha=0,\n",
       "             reg_lambda=2, scale_pos_weight=1, subsample=1, tree_method=None,\n",
       "             validate_parameters=False, verbosity=None)"
      ]
     },
     "execution_count": 189,
     "metadata": {},
     "output_type": "execute_result"
    }
   ],
   "source": [
    "import xgboost as xgb\n",
    "from sklearn.model_selection import GridSearchCV\n",
    "\n",
    "#print(\"Parameter optimization\")\n",
    "modelo_xgb = xgb.XGBRegressor(\n",
    "    n_estimators=20, max_depth=4, reg_lambda=2, min_child_weight=3, subsample=1, colsample_bytree=1, random_state=0)\n",
    "# reg_xgb = GridSearchCV(modelo_xgb,\n",
    "#                   {'max_depth': [2,4,6],\n",
    "#                    'n_estimators': [50,100,200]}, verbose=1)\n",
    "\n",
    "\n",
    "modelo_xgb.fit(X_treino, Y_treino)"
   ]
  },
  {
   "cell_type": "code",
   "execution_count": 190,
   "metadata": {},
   "outputs": [],
   "source": [
    "y_pred_teste_4 = modelo_xgb.predict(X_teste)\n",
    "y_pred_train_4 = modelo_xgb.predict(X_treino)"
   ]
  },
  {
   "cell_type": "code",
   "execution_count": 191,
   "metadata": {
    "scrolled": true
   },
   "outputs": [
    {
     "name": "stdout",
     "output_type": "stream",
     "text": [
      "[0.59622723 0.59326663 0.59636238 0.59481403 0.60597046]\n"
     ]
    },
    {
     "data": {
      "text/plain": [
       "2061.18"
      ]
     },
     "execution_count": 191,
     "metadata": {},
     "output_type": "execute_result"
    }
   ],
   "source": [
    "print(cross_val_score(modelo_xgb, X_teste, Y_teste, cv = 5))\n",
    "mean_squared_error(Y_teste, y_pred_teste_4).round(2)"
   ]
  }
 ],
 "metadata": {
  "kernelspec": {
   "display_name": "Python 3",
   "language": "python",
   "name": "python3"
  },
  "language_info": {
   "codemirror_mode": {
    "name": "ipython",
    "version": 3
   },
   "file_extension": ".py",
   "mimetype": "text/x-python",
   "name": "python",
   "nbconvert_exporter": "python",
   "pygments_lexer": "ipython3",
   "version": "3.7.6"
  }
 },
 "nbformat": 4,
 "nbformat_minor": 4
}
