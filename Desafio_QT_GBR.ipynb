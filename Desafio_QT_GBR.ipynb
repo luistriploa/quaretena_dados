{
 "cells": [
  {
   "cell_type": "markdown",
   "metadata": {},
   "source": [
    "Carregamento dos dados de treino, teste e do desafio final"
   ]
  },
  {
   "cell_type": "code",
   "execution_count": 1,
   "metadata": {},
   "outputs": [],
   "source": [
    "import pandas as pd\n",
    "import numpy as np\n",
    "%matplotlib inline\n",
    "pd.set_option(\"display.max_rows\", 120)\n",
    "\n",
    "dados_treino = pd.read_csv(\n",
    "    \"/home/pinguim/Documentos/MeusEstudos/QuarentenaDados/DADOS_TREINO.csv\")\n",
    "dados_teste = pd.read_csv(\n",
    "    \"/home/pinguim/Documentos/MeusEstudos/QuarentenaDados/DADOS_TESTE.csv\")\n",
    "dados_desafioqt = pd.read_csv(\n",
    "    \"/home/pinguim/Documentos/MeusEstudos/QuarentenaDados/DESAFIOQT.csv\")\n",
    "\n",
    "assert dados_treino.shape == (150000, 5)\n",
    "assert dados_teste.shape == (20000, 5)\n",
    "assert dados_desafioqt.shape == (10000, 5)"
   ]
  },
  {
   "cell_type": "code",
   "execution_count": 2,
   "metadata": {},
   "outputs": [],
   "source": [
    "coluna_label = 'NU_NOTA_LC'\n",
    "coluna_features = ['NU_NOTA_CN', 'NU_NOTA_CH', 'NU_NOTA_MT', 'NU_NOTA_REDACAO']\n",
    "\n",
    "X_treino = dados_treino[coluna_features].to_numpy()\n",
    "Y_treino = dados_treino[coluna_label].to_numpy()\n",
    "X_teste = dados_teste[coluna_features].to_numpy()\n",
    "Y_teste = dados_teste[coluna_label].to_numpy()"
   ]
  },
  {
   "cell_type": "markdown",
   "metadata": {},
   "source": [
    "Plotando os dados de treino e teste verificando conscistência."
   ]
  },
  {
   "cell_type": "code",
   "execution_count": 3,
   "metadata": {},
   "outputs": [
    {
     "data": {
      "text/plain": [
       "<matplotlib.legend.Legend at 0x7f044c736790>"
      ]
     },
     "execution_count": 3,
     "metadata": {},
     "output_type": "execute_result"
    },
    {
     "data": {
      "image/png": "[encoded data removed]",
      "text/plain": [
       "<Figure size 432x288 with 1 Axes>"
      ]
     },
     "metadata": {
      "needs_background": "light"
     },
     "output_type": "display_data"
    }
   ],
   "source": [
    "import matplotlib.pyplot as plt\n",
    "import seaborn as sns \n",
    "\n",
    "x0 = dados_treino\n",
    "x1 = dados_teste\n",
    "sns.distplot(x0)\n",
    "sns.distplot(x1)\n",
    "plt.legend(labels=['TREINO','TESTE'], ncol=2, loc='upper left')"
   ]
  },
  {
   "cell_type": "markdown",
   "metadata": {},
   "source": [
    "Os dados já vieram bem tratados, como foi feito em testes em outros notebooks que me trouxeram a este final. Sabendo não existir dados faltantes entre as colunas. Optei por utilizar o StandartScaler centralizando os dados levando em consideração a média."
   ]
  },
  {
   "cell_type": "code",
   "execution_count": 4,
   "metadata": {},
   "outputs": [],
   "source": [
    "from sklearn.preprocessing import StandardScaler\n",
    "sc = StandardScaler(copy=True, with_mean=True, with_std=False)\n",
    "X_treino = sc.fit_transform(X_treino)  \n",
    "X_teste = sc.transform(X_teste)"
   ]
  },
  {
   "cell_type": "markdown",
   "metadata": {},
   "source": [
    "Entre diversos regressors optei pelo GradientBoostingRegressor pela simplicidade e velocidade com a qual me retornou os melhores resultados. Aqui a falta de experiência torna-se evidente, pois na configuração dos parâmetros foi tensa. E acredito que poderia ainda ter sido melhor. "
   ]
  },
  {
   "cell_type": "code",
   "execution_count": 5,
   "metadata": {},
   "outputs": [],
   "source": [
    "from sklearn.ensemble import GradientBoostingRegressor\n",
    "\n",
    "modelo_gbr = GradientBoostingRegressor(\n",
    "    alpha=0.5,\n",
    "    n_estimators=200,\n",
    "    learning_rate=0.2335589533,\n",
    "    max_depth=2,\n",
    "    random_state=0,\n",
    "    loss='ls',\n",
    ")"
   ]
  },
  {
   "cell_type": "code",
   "execution_count": 6,
   "metadata": {},
   "outputs": [
    {
     "data": {
      "text/plain": [
       "GradientBoostingRegressor(alpha=0.5, ccp_alpha=0.0, criterion='friedman_mse',\n",
       "                          init=None, learning_rate=0.2335589533, loss='ls',\n",
       "                          max_depth=2, max_features=None, max_leaf_nodes=None,\n",
       "                          min_impurity_decrease=0.0, min_impurity_split=None,\n",
       "                          min_samples_leaf=1, min_samples_split=2,\n",
       "                          min_weight_fraction_leaf=0.0, n_estimators=200,\n",
       "                          n_iter_no_change=None, presort='deprecated',\n",
       "                          random_state=0, subsample=1.0, tol=0.0001,\n",
       "                          validation_fraction=0.1, verbose=0, warm_start=False)"
      ]
     },
     "execution_count": 6,
     "metadata": {},
     "output_type": "execute_result"
    }
   ],
   "source": [
    "modelo_gbr.fit(X_treino, Y_treino)"
   ]
  },
  {
   "cell_type": "code",
   "execution_count": 7,
   "metadata": {},
   "outputs": [],
   "source": [
    "y_pred_treino = modelo_gbr.predict(X_treino)\n",
    "y_pred_teste = modelo_gbr.predict(X_teste)"
   ]
  },
  {
   "cell_type": "markdown",
   "metadata": {},
   "source": [
    "Utilizando o cross_val_score para realizar a validação cruzada do modelo. E também testando a métrica mean_squared_error (erro quadrático médio) que é o critério de avaliação desse desafio."
   ]
  },
  {
   "cell_type": "code",
   "execution_count": 8,
   "metadata": {},
   "outputs": [
    {
     "name": "stdout",
     "output_type": "stream",
     "text": [
      "[0.61642921 0.61102973 0.6110867  0.61732479 0.61232997]\n",
      "[0.59511015 0.58990606 0.58833057 0.5961965  0.60204164]\n",
      "1994.8517687861336\n",
      "2043.5592670768394\n"
     ]
    }
   ],
   "source": [
    "from sklearn.model_selection import cross_val_score\n",
    "from sklearn.metrics import mean_squared_error\n",
    "\n",
    "print(cross_val_score(modelo_gbr, X_treino, Y_treino, cv = 5))\n",
    "print(cross_val_score(modelo_gbr, X_teste, Y_teste, cv = 5))\n",
    "print(mean_squared_error(Y_treino, y_pred_treino))\n",
    "print(mean_squared_error(Y_teste, y_pred_teste))"
   ]
  },
  {
   "cell_type": "markdown",
   "metadata": {},
   "source": [
    "Submissão do modelo"
   ]
  },
  {
   "cell_type": "code",
   "execution_count": 9,
   "metadata": {},
   "outputs": [],
   "source": [
    "MODELO = modelo_gbr\n",
    "X_desafioqt = dados_desafioqt[coluna_features].to_numpy()\n",
    "predicao_desafioqt = MODELO.predict(X_desafioqt)\n",
    "\n",
    "\n",
    "desafio_df = pd.DataFrame(dados_desafioqt.ID)\n",
    "desafio_df[coluna_label] = predicao_desafioqt\n",
    "\n",
    "#NÃO TROCAR O NOME DO ARQUIVO DE SAÍDA (PREDICAO_DESAFIO)\n",
    "desafio_df.to_csv('PREDICAO_DESAFIOQT.csv', index=False) \n",
    "#files.download('PREDICAO_DESAFIOQT.csv')\n",
    "\n"
   ]
  },
  {
   "cell_type": "code",
   "execution_count": 7,
   "metadata": {},
   "outputs": [
    {
     "data": {
      "text/plain": [
       "<bound method RegressorMixin.score of GradientBoostingRegressor(alpha=0.5, ccp_alpha=0.0, criterion='friedman_mse',\n",
       "                          init=None, learning_rate=0.2335589533, loss='ls',\n",
       "                          max_depth=2, max_features=None, max_leaf_nodes=None,\n",
       "                          min_impurity_decrease=0.0, min_impurity_split=None,\n",
       "                          min_samples_leaf=1, min_samples_split=2,\n",
       "                          min_weight_fraction_leaf=0.0, n_estimators=200,\n",
       "                          n_iter_no_change=None, presort='deprecated',\n",
       "                          random_state=0, subsample=1.0, tol=0.0001,\n",
       "                          validation_fraction=0.1, verbose=0, warm_start=False)>"
      ]
     },
     "execution_count": 7,
     "metadata": {},
     "output_type": "execute_result"
    }
   ],
   "source": [
    "modelo_gbr.score(X)"
   ]
  },
  {
   "cell_type": "code",
   "execution_count": null,
   "metadata": {},
   "outputs": [],
   "source": []
  }
 ],
 "metadata": {
  "kernelspec": {
   "display_name": "Python 3",
   "language": "python",
   "name": "python3"
  },
  "language_info": {
   "codemirror_mode": {
    "name": "ipython",
    "version": 3
   },
   "file_extension": ".py",
   "mimetype": "text/x-python",
   "name": "python",
   "nbconvert_exporter": "python",
   "pygments_lexer": "ipython3",
   "version": "3.7.6"
  },
  "nbTranslate": {
   "displayLangs": [
    "*"
   ],
   "hotkey": "alt-t",
   "langInMainMenu": true,
   "sourceLang": "en",
   "targetLang": "fr",
   "useGoogleTranslate": true
  }
 },
 "nbformat": 4,
 "nbformat_minor": 4
}
