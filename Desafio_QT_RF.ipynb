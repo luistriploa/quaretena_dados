{
 "cells": [
  {
   "cell_type": "code",
   "execution_count": 1,
   "metadata": {},
   "outputs": [],
   "source": [
    "import pandas as pd\n",
    "import numpy as np\n",
    "%matplotlib inline\n",
    "pd.set_option(\"display.max_rows\", 120)\n",
    "\n",
    "dados_treino = pd.read_csv(\n",
    "    \"/home/pinguim/Documentos/MeusEstudos/QuarentenaDados/DADOS_TREINO.csv\")\n",
    "dados_teste = pd.read_csv(\n",
    "    \"/home/pinguim/Documentos/MeusEstudos/QuarentenaDados/DADOS_TESTE.csv\")\n",
    "dados_desafioqt = pd.read_csv(\n",
    "    \"/home/pinguim/Documentos/MeusEstudos/QuarentenaDados/DESAFIOQT.csv\")\n",
    "\n",
    "assert dados_treino.shape == (150000, 5)\n",
    "assert dados_teste.shape == (20000, 5)\n",
    "assert dados_desafioqt.shape == (10000, 5)"
   ]
  },
  {
   "cell_type": "code",
   "execution_count": 43,
   "metadata": {},
   "outputs": [],
   "source": [
    "coluna_label = 'NU_NOTA_LC'\n",
    "coluna_features = ['NU_NOTA_CN', 'NU_NOTA_CH', 'NU_NOTA_MT', 'NU_NOTA_REDACAO']\n",
    "\n",
    "X_treino = dados_treino[coluna_features].to_numpy()\n",
    "Y_treino = dados_treino[coluna_label].to_numpy()\n",
    "X_teste = dados_teste[coluna_features].to_numpy()\n",
    "Y_teste = dados_teste[coluna_label].to_numpy()"
   ]
  },
  {
   "cell_type": "code",
   "execution_count": 44,
   "metadata": {},
   "outputs": [
    {
     "data": {
      "text/plain": [
       "<matplotlib.legend.Legend at 0x7fd51eb6fa10>"
      ]
     },
     "execution_count": 44,
     "metadata": {},
     "output_type": "execute_result"
    },
    {
     "data": {
      "image/png": "[encoded data removed]",
      "text/plain": [
       "<Figure size 432x288 with 1 Axes>"
      ]
     },
     "metadata": {
      "needs_background": "light"
     },
     "output_type": "display_data"
    }
   ],
   "source": [
    "import matplotlib.pyplot as plt\n",
    "import seaborn as sns \n",
    "\n",
    "x0 = dados_treino\n",
    "x1 = dados_teste\n",
    "sns.distplot(x0)\n",
    "sns.distplot(x1)\n",
    "plt.legend(labels=['TREINO','TESTE'], ncol=2, loc='upper left')"
   ]
  },
  {
   "cell_type": "code",
   "execution_count": 45,
   "metadata": {},
   "outputs": [],
   "source": [
    "from sklearn.preprocessing import StandardScaler\n",
    "sc = StandardScaler(copy=True, with_mean=False, with_std=True)\n",
    "X_treino = sc.fit_transform(X_treino)  \n",
    "X_teste = sc.transform(X_teste)"
   ]
  },
  {
   "cell_type": "code",
   "execution_count": 62,
   "metadata": {},
   "outputs": [],
   "source": [
    "from sklearn.ensemble import RandomForestRegressor\n",
    "modelo_rf = RandomForestRegressor(\n",
    "    criterion='mse',\n",
    "    max_depth=10,\n",
    "    max_features=3,\n",
    "    max_leaf_nodes=None,\n",
    "    min_impurity_split=None,\n",
    "    min_samples_leaf=2,\n",
    "    min_samples_split=5,\n",
    "    min_weight_fraction_leaf=0.0,\n",
    "    ccp_alpha=0.01,\n",
    "    max_samples=0.9,    \n",
    "    n_estimators=500,\n",
    "    n_jobs=1,\n",
    "    random_state=0,\n",
    "    verbose=0,\n",
    "    warm_start=False\n",
    ")"
   ]
  },
  {
   "cell_type": "code",
   "execution_count": 63,
   "metadata": {},
   "outputs": [
    {
     "data": {
      "text/plain": [
       "RandomForestRegressor(bootstrap=True, ccp_alpha=0.01, criterion='mse',\n",
       "                      max_depth=10, max_features=3, max_leaf_nodes=None,\n",
       "                      max_samples=0.9, min_impurity_decrease=0.0,\n",
       "                      min_impurity_split=None, min_samples_leaf=2,\n",
       "                      min_samples_split=5, min_weight_fraction_leaf=0.0,\n",
       "                      n_estimators=500, n_jobs=1, oob_score=False,\n",
       "                      random_state=0, verbose=0, warm_start=False)"
      ]
     },
     "execution_count": 63,
     "metadata": {},
     "output_type": "execute_result"
    }
   ],
   "source": [
    "modelo_rf.fit(X_treino, Y_treino)"
   ]
  },
  {
   "cell_type": "code",
   "execution_count": 64,
   "metadata": {},
   "outputs": [],
   "source": [
    "y_pred_treino = modelo_rf.predict(X_treino)\n",
    "y_pred_teste = modelo_rf.predict(X_teste)"
   ]
  },
  {
   "cell_type": "code",
   "execution_count": 65,
   "metadata": {},
   "outputs": [
    {
     "name": "stdout",
     "output_type": "stream",
     "text": [
      "[0.61443369 0.61212746 0.612103   0.61669972 0.61024089]\n",
      "[0.59607787 0.59347923 0.59368563 0.59662916 0.6072641 ]\n",
      "1886.3095851633009\n",
      "2056.1313090989256\n"
     ]
    }
   ],
   "source": [
    "from sklearn.model_selection import cross_val_score\n",
    "from sklearn.metrics import mean_squared_error\n",
    "\n",
    "print(cross_val_score(modelo_rf, X_treino, Y_treino, cv = 5))\n",
    "print(cross_val_score(modelo_rf, X_teste, Y_teste, cv = 5))\n",
    "print(mean_squared_error(Y_treino, y_pred_treino))\n",
    "print(mean_squared_error(Y_teste, y_pred_teste))"
   ]
  },
  {
   "cell_type": "code",
   "execution_count": null,
   "metadata": {},
   "outputs": [],
   "source": []
  }
 ],
 "metadata": {
  "kernelspec": {
   "display_name": "Python 3",
   "language": "python",
   "name": "python3"
  },
  "language_info": {
   "codemirror_mode": {
    "name": "ipython",
    "version": 3
   },
   "file_extension": ".py",
   "mimetype": "text/x-python",
   "name": "python",
   "nbconvert_exporter": "python",
   "pygments_lexer": "ipython3",
   "version": "3.7.6"
  }
 },
 "nbformat": 4,
 "nbformat_minor": 4
}
